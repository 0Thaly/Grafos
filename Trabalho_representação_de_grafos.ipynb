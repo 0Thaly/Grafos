{
  "nbformat": 4,
  "nbformat_minor": 0,
  "metadata": {
    "colab": {
      "provenance": [],
      "include_colab_link": true
    },
    "kernelspec": {
      "name": "python3",
      "display_name": "Python 3"
    },
    "language_info": {
      "name": "python"
    }
  },
  "cells": [
    {
      "cell_type": "markdown",
      "metadata": {
        "id": "view-in-github",
        "colab_type": "text"
      },
      "source": [
        "<a href=\"https://colab.research.google.com/github/0Thaly/Grafos/blob/main/Trabalho_representa%C3%A7%C3%A3o_de_grafos.ipynb\" target=\"_parent\"><img src=\"https://colab.research.google.com/assets/colab-badge.svg\" alt=\"Open In Colab\"/></a>"
      ]
    },
    {
      "cell_type": "markdown",
      "source": [],
      "metadata": {
        "id": "8_ffHC19aehA"
      }
    },
    {
      "cell_type": "code",
      "source": [
        "def criar_grafo_a_partir_de_bytes(dados_binarios):\n",
        "    # Decodifique os bytes em uma string\n",
        "    dados_str = dados_binarios.decode('utf-8')\n",
        "\n",
        "    # Divida a string em linhas\n",
        "    linhas = dados_str.strip().split('\\n')\n",
        "\n",
        "    # O número de vértices é a primeira linha\n",
        "    num_vertices = int(linhas[0])\n",
        "\n",
        "    # atribuindo a quantidade de vértices a uma váriavel global para ter acesso fora da função\n",
        "    global nvertices\n",
        "    nvertices = num_vertices\n",
        "\n",
        "    # Inicialize o grafo como um dicionário vazio\n",
        "    grafo = {}\n",
        "\n",
        "    # Processar as linhas subsequentes para criar as arestas do grafo\n",
        "    for linha in linhas[1:]:\n",
        "        partes = linha.split('\\t')\n",
        "        u, v, peso = int(partes[0]), int(partes[1]), float(partes[2])\n",
        "\n",
        "        if u in grafo:\n",
        "            grafo[u].append((v, peso))\n",
        "        else:\n",
        "            grafo[u] = [(v, peso)]\n",
        "\n",
        "    return grafo\n",
        "\n",
        "def ler_grafo_binario(nome_arquivo):\n",
        "   # Nome do arquivo binário que você deseja ler\n",
        "  try:\n",
        "      with open(nome_arquivo, 'rb') as arquivo_binario:\n",
        "          # Leia o conteúdo do arquivo binário\n",
        "          dados_binarios = arquivo_binario.read()\n",
        "\n",
        "          # Faça algo com os dados binários\n",
        "          return dados_binarios\n",
        "  except FileNotFoundError:\n",
        "      print(f'O arquivo {nome_arquivo} não foi encontrado.')\n",
        "  except Exception as e:\n",
        "      print(f'Ocorreu um erro ao ler o arquivo: {str(e)}')\n",
        "\n",
        "def criar_matriz_incidencia(grafo, nvertices):\n",
        "    # Obtenha a lista de vértices e arestas\n",
        "    vertices = [x for x in range(1, nvertices + 1)] # lista com os vértices\n",
        "    arestas = []\n",
        "    pesos = []\n",
        "    for u, vizinhos in grafo.items():\n",
        "        arestas.extend([(u, v) for (v, _) in vizinhos]) # lista com as arestas\n",
        "        pesos.extend([p for (_, p) in vizinhos]) # listas com os pesos\n",
        "    print(arestas)\n",
        "    # Crie a matriz de incidência com zeros\n",
        "    num_vertices = len(vertices)\n",
        "    num_arestas = len(arestas)\n",
        "    matriz_incidencia = [[0] * num_vertices for _ in range(num_arestas)] # vertices * arestas\n",
        "\n",
        "    # Preencha a matriz de incidência\n",
        "    for j, (v1, v2) in enumerate(arestas): # percorrendo as arestas da matriz/linhas\n",
        "            matriz_incidencia[j][v1-1] = pesos[j] # linha j - vertice origem =  peso\n",
        "            matriz_incidencia[j][v2-1] = -pesos[j]  # linha j = vertice  destino = - peso\n",
        "    return matriz_incidencia\n",
        "\n",
        "# Exemplo de uso\n",
        "nome_arquivo = 'inst-13' # instância do grafo / arquivo externo\n",
        "grafo_lido = ler_grafo_binario(nome_arquivo)\n",
        "grafo_gerado = criar_grafo_a_partir_de_bytes(grafo_lido) # grafo gerado à partir do arquivo\n",
        "\n",
        "# Exiba a representação do grafo\n",
        "print('Grafo: \\n')\n",
        "for vertice, arestas in grafo_gerado.items():\n",
        "    print(f'Vértice {vertice}:')\n",
        "    for (vizinho, peso) in arestas:\n",
        "        print(f'  -> Vizinho: {vizinho}, Peso: {peso}')\n",
        "\n",
        "# criando matriz de incidência\n",
        "matriz_incidencia = criar_matriz_incidencia(grafo_gerado, nvertices)\n",
        "\n",
        "print('\\n Matriz de incidência: \\n')\n",
        "# Exibir matriz de incidência\n",
        "for index, linha in enumerate(matriz_incidencia):\n",
        "    print(f'0{index+1} - {linha}') if len(str(index + 1)) < 2 else print(f'{index+1} - {linha}')"
      ],
      "metadata": {
        "colab": {
          "base_uri": "https://localhost:8080/"
        },
        "id": "_3Ptsn1E1gpu",
        "outputId": "c14c44b5-6c9d-4aab-dea3-aad6975ab573"
      },
      "execution_count": null,
      "outputs": [
        {
          "output_type": "stream",
          "name": "stdout",
          "text": [
            "Grafo: \n",
            "\n",
            "Vértice 1:\n",
            "  -> Vizinho: 2, Peso: 1.0\n",
            "  -> Vizinho: 8, Peso: 1.0\n",
            "  -> Vizinho: 11, Peso: 1.0\n",
            "  -> Vizinho: 12, Peso: 1.0\n",
            "Vértice 2:\n",
            "  -> Vizinho: 3, Peso: 1.0\n",
            "  -> Vizinho: 4, Peso: 1.0\n",
            "  -> Vizinho: 5, Peso: 1.0\n",
            "  -> Vizinho: 7, Peso: 1.0\n",
            "Vértice 8:\n",
            "  -> Vizinho: 10, Peso: 1.0\n",
            "  -> Vizinho: 7, Peso: 1.0\n",
            "Vértice 11:\n",
            "  -> Vizinho: 12, Peso: 1.0\n",
            "Vértice 3:\n",
            "  -> Vizinho: 4, Peso: 1.0\n",
            "Vértice 7:\n",
            "  -> Vizinho: 6, Peso: 1.0\n",
            "  -> Vizinho: 9, Peso: 1.0\n",
            "Vértice 10:\n",
            "  -> Vizinho: 9, Peso: 1.0\n",
            "Vértice 6:\n",
            "  -> Vizinho: 5, Peso: 1.0\n",
            "[(1, 2), (1, 8), (1, 11), (1, 12), (2, 3), (2, 4), (2, 5), (2, 7), (8, 10), (8, 7), (11, 12), (3, 4), (7, 6), (7, 9), (10, 9), (6, 5)]\n",
            "\n",
            " Matriz de incidência: \n",
            "\n",
            "01 - [1.0, -1.0, 0, 0, 0, 0, 0, 0, 0, 0, 0, 0, 0]\n",
            "02 - [1.0, 0, 0, 0, 0, 0, 0, -1.0, 0, 0, 0, 0, 0]\n",
            "03 - [1.0, 0, 0, 0, 0, 0, 0, 0, 0, 0, -1.0, 0, 0]\n",
            "04 - [1.0, 0, 0, 0, 0, 0, 0, 0, 0, 0, 0, -1.0, 0]\n",
            "05 - [0, 1.0, -1.0, 0, 0, 0, 0, 0, 0, 0, 0, 0, 0]\n",
            "06 - [0, 1.0, 0, -1.0, 0, 0, 0, 0, 0, 0, 0, 0, 0]\n",
            "07 - [0, 1.0, 0, 0, -1.0, 0, 0, 0, 0, 0, 0, 0, 0]\n",
            "08 - [0, 1.0, 0, 0, 0, 0, -1.0, 0, 0, 0, 0, 0, 0]\n",
            "09 - [0, 0, 0, 0, 0, 0, 0, 1.0, 0, -1.0, 0, 0, 0]\n",
            "10 - [0, 0, 0, 0, 0, 0, -1.0, 1.0, 0, 0, 0, 0, 0]\n",
            "11 - [0, 0, 0, 0, 0, 0, 0, 0, 0, 0, 1.0, -1.0, 0]\n",
            "12 - [0, 0, 1.0, -1.0, 0, 0, 0, 0, 0, 0, 0, 0, 0]\n",
            "13 - [0, 0, 0, 0, 0, -1.0, 1.0, 0, 0, 0, 0, 0, 0]\n",
            "14 - [0, 0, 0, 0, 0, 0, 1.0, 0, -1.0, 0, 0, 0, 0]\n",
            "15 - [0, 0, 0, 0, 0, 0, 0, 0, -1.0, 1.0, 0, 0, 0]\n",
            "16 - [0, 0, 0, 0, -1.0, 1.0, 0, 0, 0, 0, 0, 0, 0]\n"
          ]
        }
      ]
    },
    {
      "cell_type": "code",
      "source": [],
      "metadata": {
        "id": "xuh0WKeFUO-Q"
      },
      "execution_count": null,
      "outputs": []
    }
  ]
}